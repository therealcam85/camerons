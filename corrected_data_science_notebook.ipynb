{
 "cells": [
  {
   "cell_type": "markdown",
   "id": "793cbffc",
   "metadata": {},
   "source": [
    "# Data Science Tools and Ecosystem"
   ]
  },
  {
   "cell_type": "markdown",
   "id": "e94b4462",
   "metadata": {},
   "source": [
    "This notebook provides an overview of data science tools, languages, and libraries. \n",
    "It also includes simple arithmetic operations and conversions."
   ]
  },
  {
   "cell_type": "markdown",
   "id": "9b75940a",
   "metadata": {},
   "source": [
    "**Data Science Languages:**\n",
    "\n",
    "- Python\n",
    "- R\n",
    "- SQL\n",
    "- Julia\n",
    "- Scala"
   ]
  },
  {
   "cell_type": "markdown",
   "id": "c3940408",
   "metadata": {},
   "source": [
    "**Data Science Libraries:**\n",
    "\n",
    "- Pandas\n",
    "- NumPy\n",
    "- Scikit-learn\n",
    "- TensorFlow\n",
    "- PyTorch\n",
    "- Matplotlib"
   ]
  },
  {
   "cell_type": "markdown",
   "id": "471c2bc7",
   "metadata": {},
   "source": [
    "**Data Science Tools:**\n",
    "\n",
    "| Tool | Description |\n",
    "|------|------------|\n",
    "| Jupyter Notebook | Interactive computing environment |\n",
    "| RStudio | IDE for R programming |\n",
    "| Apache Spark | Big data processing framework |\n",
    "| TensorFlow | Machine learning framework |\n",
    "| Tableau | Data visualization software |"
   ]
  },
  {
   "cell_type": "markdown",
   "id": "83d81449",
   "metadata": {},
   "source": [
    "In this section, we will explore some arithmetic expressions such as addition, multiplication, and conversion of units."
   ]
  },
  {
   "cell_type": "code",
   "execution_count": null,
   "id": "0568813b",
   "metadata": {},
   "outputs": [],
   "source": [
    "x = (3 * 4) + 5\n",
    "x"
   ]
  },
  {
   "cell_type": "code",
   "execution_count": null,
   "id": "739a5dca",
   "metadata": {},
   "outputs": [],
   "source": [
    "minutes = 200\n",
    "hours = minutes / 60\n",
    "hours"
   ]
  },
  {
   "cell_type": "markdown",
   "id": "6ea2ea52",
   "metadata": {},
   "source": [
    "**Objectives:**\n",
    "\n",
    "- List popular data science languages\n",
    "- Identify common data science libraries\n",
    "- Understand key data science tools\n",
    "- Perform basic arithmetic operations\n",
    "- Convert units in Python"
   ]
  },
  {
   "cell_type": "markdown",
   "id": "760106b9",
   "metadata": {},
   "source": [
    "**Author:** [Your Name]"
   ]
  },
  {
   "cell_type": "markdown",
   "id": "f1ed6e03",
   "metadata": {},
   "source": [
    "### Share Notebook via GitHub\n",
    "\n",
    "Instructions: After saving the notebook, upload it to a GitHub repository and share the link."
   ]
  },
  {
   "cell_type": "markdown",
   "id": "73b1e68d",
   "metadata": {},
   "source": [
    "### Take a Screenshot\n",
    "\n",
    "Instructions: Take a screenshot of the first page of your notebook and upload it as required."
   ]
  }
 ],
 "metadata": {
  "kernelspec": {
   "display_name": "Python 3",
   "language": "python",
   "name": "python3"
  },
  "language_info": {
   "name": "python",
   "version": "3"
  }
 },
 "nbformat": 4,
 "nbformat_minor": 5
}
